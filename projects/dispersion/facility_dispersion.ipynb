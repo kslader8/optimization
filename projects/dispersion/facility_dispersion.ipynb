{
 "cells": [
  {
   "cell_type": "markdown",
   "metadata": {},
   "source": [
    "# The Facility Dispersion Problem"
   ]
  },
  {
   "cell_type": "markdown",
   "metadata": {},
   "source": [
    "## p-dispersion\n",
    "\n",
    "$$\n",
    "\\begin{align}\n",
    "    \\text{max} \\quad & D \\\\\n",
    "    \\text{s.t} \\quad & \\sum_{i \\in V} x_{i} = p & \\forall \\; i \\in V \\\\\n",
    "    & z_{i, j} \\leq x_{i} & \\forall \\; i, j \\in A \\\\\n",
    "    & z_{i, j} \\leq x_{j} & \\forall \\; i, j \\in A \\\\\n",
    "    & x_{i} + x_{j} - 1 \\leq z_{i, j} & \\forall \\; i, j \\in A \\\\\n",
    "    & D \\leq d_{i, j} + M (1 - z_{i, j}) & \\forall \\; i, j \\in A \\\\\n",
    "    & x_{i} \\in \\{0, 1\\} & \\forall \\; i \\in V \\\\\n",
    "    & z_{i, j} \\in \\{0, 1\\} & \\forall \\; i, j \\in A \\\\\n",
    "\\end{align}\n",
    "$$"
   ]
  },
  {
   "cell_type": "markdown",
   "metadata": {},
   "source": [
    "## maxisum\n",
    "\n",
    "$$\n",
    "\\begin{align}\n",
    "    \\text{max} \\quad & \\sum_{i \\in V}\\sum_{j \\in V} d_{i, j} z_{i, j} \\\\\n",
    "    \\text{s.t} \\quad & d_{opt} \\leq D \\\\\n",
    "\\end{align}\n",
    "$$"
   ]
  },
  {
   "cell_type": "code",
   "execution_count": 4,
   "metadata": {},
   "outputs": [],
   "source": [
    "import json"
   ]
  },
  {
   "cell_type": "code",
   "execution_count": 5,
   "metadata": {},
   "outputs": [],
   "source": [
    "import numpy as np\n",
    "import pandas as pd\n",
    "import pyomo.environ as pyo\n",
    "from scipy.spatial import distance as sci_dist"
   ]
  },
  {
   "cell_type": "code",
   "execution_count": 6,
   "metadata": {},
   "outputs": [],
   "source": [
    "import plotly.express as px\n",
    "import matplotlib.pyplot as plt"
   ]
  },
  {
   "cell_type": "markdown",
   "metadata": {},
   "source": [
    "## Read input data"
   ]
  },
  {
   "cell_type": "code",
   "execution_count": 7,
   "metadata": {},
   "outputs": [
    {
     "data": {
      "text/plain": [
       "((25, 2), (25, 25))"
      ]
     },
     "execution_count": 7,
     "metadata": {},
     "output_type": "execute_result"
    }
   ],
   "source": [
    "with open(\"./data/data_25_5.json\", mode=\"r\") as file:\n",
    "    data = json.load(file)\n",
    "\n",
    "N = len(data[\"coordinates\"])\n",
    "coordinates = np.array(data[\"coordinates\"])\n",
    "weights = sci_dist.squareform(sci_dist.pdist(coordinates))\n",
    "coordinates.shape, weights.shape"
   ]
  },
  {
   "cell_type": "code",
   "execution_count": 8,
   "metadata": {},
   "outputs": [
    {
     "data": {
      "text/plain": [
       "5"
      ]
     },
     "execution_count": 8,
     "metadata": {},
     "output_type": "execute_result"
    }
   ],
   "source": [
    "# number of points to select\n",
    "p = data[\"p\"]\n",
    "p"
   ]
  },
  {
   "cell_type": "code",
   "execution_count": 9,
   "metadata": {},
   "outputs": [
    {
     "data": {
      "image/png": "[encoded data removed]",
      "text/plain": [
       "<Figure size 500x500 with 1 Axes>"
      ]
     },
     "metadata": {},
     "output_type": "display_data"
    }
   ],
   "source": [
    "fig, ax = plt.subplots(figsize=[5, 5], dpi=100)\n",
    "ax.scatter(\n",
    "    coordinates[:, 0],\n",
    "    coordinates[:, 1],\n",
    "    color=\"navy\"\n",
    ")\n",
    "\n",
    "ax.axis('off')\n",
    "\n",
    "fig.tight_layout()\n",
    "plt.show()"
   ]
  },
  {
   "cell_type": "markdown",
   "metadata": {},
   "source": [
    "## Model"
   ]
  },
  {
   "cell_type": "code",
   "execution_count": 10,
   "metadata": {},
   "outputs": [],
   "source": [
    "model = pyo.ConcreteModel()"
   ]
  },
  {
   "cell_type": "markdown",
   "metadata": {},
   "source": [
    "### Sets of Nodes and Arcs"
   ]
  },
  {
   "cell_type": "code",
   "execution_count": 11,
   "metadata": {},
   "outputs": [],
   "source": [
    "model.nodes = pyo.Set(initialize=range(weights.shape[0]))\n",
    "model.arcs = pyo.Set(\n",
    "    initialize=[(i, j) for i in range(weights.shape[0]) for j in range(weights.shape[0]) if i != j]\n",
    ")"
   ]
  },
  {
   "cell_type": "markdown",
   "metadata": {},
   "source": [
    "### Parameters"
   ]
  },
  {
   "cell_type": "code",
   "execution_count": null,
   "metadata": {},
   "outputs": [],
   "source": [
    "model.d = pyo.Param(model.A, initialize={(i, j): weights[i, j] for (i, j) in model.A})\n",
    "model.p = pyo.Param(initialize=p)\n",
    "\n",
    "# # Big M\n",
    "# model.M = pyo.Param(initialize=###)"
   ]
  },
  {
   "cell_type": "code",
   "execution_count": null,
   "metadata": {},
   "outputs": [],
   "source": [
    "# Decision variables\n",
    "# model.x = pyo.Var(###, within=###)\n",
    "# model.z = pyo.Var(###, within=###)\n",
    "# model.D = pyo.Var(within=###)"
   ]
  },
  {
   "cell_type": "code",
   "execution_count": null,
   "metadata": {},
   "outputs": [],
   "source": [
    "# Constraints\n",
    "# def p_selection(###):\n",
    "#     return ###\n",
    "\n",
    "\n",
    "# def dispersion_c1(###):\n",
    "#     return ###\n",
    "\n",
    "\n",
    "# def dispersion_c2(###):\n",
    "#     return ###\n",
    "\n",
    "\n",
    "# def dispersion_c3(###):\n",
    "#     return ###\n",
    "\n",
    "\n",
    "# def maxmin_rule(###):\n",
    "#     return ###\n",
    "\n",
    "\n",
    "# Set model attributes\n",
    "# model.p_selection = pyo.Constraint(rule=p_selection)\n",
    "# model.dispersion_c1 = pyo.Constraint(###, rule=dispersion_c1)\n",
    "# model.dispersion_c2 = pyo.Constraint(###, rule=dispersion_c2)\n",
    "# model.dispersion_c3 = pyo.Constraint(###, rule=dispersion_c3)\n",
    "# model.maxmin_rule = pyo.Constraint(###, rule=maxmin_rule)"
   ]
  },
  {
   "cell_type": "code",
   "execution_count": null,
   "metadata": {},
   "outputs": [],
   "source": [
    "# Objectives\n",
    "# model.obj_pdisp = pyo.Objective(expr=###, sense=###)\n",
    "\n",
    "\n",
    "# def obj_maxisum(model):\n",
    "#     return ###\n",
    "\n",
    "\n",
    "# model.obj_maxisum = pyo.Objective(rule=obj_maxisum, sense=pyo.maximize)\n",
    "# model.obj_maxisum.deactivate()"
   ]
  },
  {
   "cell_type": "markdown",
   "metadata": {},
   "source": [
    "## Solve"
   ]
  },
  {
   "cell_type": "code",
   "execution_count": null,
   "metadata": {},
   "outputs": [],
   "source": [
    "# Function to solve model\n",
    "def solve_model(model, solver, **kwargs):\n",
    "\n",
    "    # Solve p-dispersion problem\n",
    "    solver.solve(model, **kwargs)\n",
    "\n",
    "    # Include constraint that does not allow objective degradation\n",
    "    d_opt = model.obj_pdisp()\n",
    "    model.pdisp_degradation = pyo.Constraint(expr=d_opt <= model.D)\n",
    "\n",
    "    # Change active objective\n",
    "    model.obj_pdisp.deactivate()\n",
    "    model.obj_maxisum.activate()\n",
    "\n",
    "    # Solve maxisum model\n",
    "    solver.solve(model, **kwargs)"
   ]
  },
  {
   "cell_type": "code",
   "execution_count": null,
   "metadata": {},
   "outputs": [],
   "source": [
    "solver = pyo.SolverFactory(\"appsi_highs\")\n",
    "solver.options[\"time_limit\"] = 180\n",
    "solve_model(model, solver, tee=True)"
   ]
  },
  {
   "cell_type": "code",
   "execution_count": null,
   "metadata": {},
   "outputs": [],
   "source": [
    "fig, ax = plt.subplots(figsize=[5, 5], dpi=100)\n",
    "facilities = np.array([i for i in model.x if np.isclose(model.x[i].value, 1)])\n",
    "\n",
    "ax.scatter(\n",
    "    coordinates[:, 0],\n",
    "    coordinates[:, 1],\n",
    "    color=\"navy\"\n",
    ")\n",
    "\n",
    "ax.scatter(\n",
    "    coordinates[facilities, 0],\n",
    "    coordinates[facilities, 1],\n",
    "    color=\"firebrick\",\n",
    "    label=\"Facilities\"\n",
    ")\n",
    "\n",
    "ax.axis('off')\n",
    "\n",
    "fig.tight_layout()\n",
    "plt.show()"
   ]
  },
  {
   "cell_type": "code",
   "execution_count": null,
   "metadata": {},
   "outputs": [],
   "source": []
  }
 ],
 "metadata": {
  "kernelspec": {
   "display_name": ".venv",
   "language": "python",
   "name": "python3"
  },
  "language_info": {
   "codemirror_mode": {
    "name": "ipython",
    "version": 3
   },
   "file_extension": ".py",
   "mimetype": "text/x-python",
   "name": "python",
   "nbconvert_exporter": "python",
   "pygments_lexer": "ipython3",
   "version": "3.11.9"
  }
 },
 "nbformat": 4,
 "nbformat_minor": 2
}
