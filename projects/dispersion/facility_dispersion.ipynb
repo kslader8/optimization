{
 "cells": [
  {
   "cell_type": "markdown",
   "metadata": {},
   "source": [
    "# The Facility Dispersion Problem"
   ]
  },
  {
   "cell_type": "markdown",
   "metadata": {},
   "source": [
    "## p-dispersion\n",
    "\n",
    "$$\n",
    "\\begin{align}\n",
    "    \\text{max} \\quad & D \\\\\n",
    "    \\text{s.t} \\quad & \\sum_{i \\in V} x_{i} = p & \\forall \\; i \\in V \\\\\n",
    "    & z_{i, j} \\leq x_{i} & \\forall \\; i, j \\in A \\\\\n",
    "    & z_{i, j} \\leq x_{j} & \\forall \\; i, j \\in A \\\\\n",
    "    & x_{i} + x_{j} - 1 \\leq z_{i, j} & \\forall \\; i, j \\in A \\\\\n",
    "    & D \\leq d_{i, j} + M (1 - z_{i, j}) & \\forall \\; i, j \\in A \\\\\n",
    "    & x_{i} \\in \\{0, 1\\} & \\forall \\; i \\in V \\\\\n",
    "    & z_{i, j} \\in \\{0, 1\\} & \\forall \\; i, j \\in A \\\\\n",
    "\\end{align}\n",
    "$$"
   ]
  },
  {
   "cell_type": "markdown",
   "metadata": {},
   "source": [
    "## maxisum\n",
    "\n",
    "$$\n",
    "\\begin{align}\n",
    "    \\text{max} \\quad & \\sum_{i \\in V}\\sum_{j \\in V} d_{i, j} z_{i, j} \\\\\n",
    "    \\text{s.t} \\quad & d_{opt} \\leq D \\\\\n",
    "\\end{align}\n",
    "$$"
   ]
  },
  {
   "cell_type": "code",
   "execution_count": null,
   "metadata": {},
   "outputs": [],
   "source": [
    "import json\n",
    "\n",
    "import numpy as np\n",
    "from scipy.spatial.distance import pdist, squareform\n",
    "import pyomo.environ as pyo\n",
    "import matplotlib.pyplot as plt"
   ]
  },
  {
   "cell_type": "markdown",
   "metadata": {},
   "source": [
    "## Read input data"
   ]
  },
  {
   "cell_type": "code",
   "execution_count": null,
   "metadata": {},
   "outputs": [],
   "source": [
    "# Read file\n",
    "with open(\"./data/data_25_5.json\", mode=\"r\") as file:\n",
    "    data = json.load(file)\n",
    "\n",
    "N = len(data[\"coordinates\"])\n",
    "coordinates = np.array(data[\"coordinates\"])\n",
    "weights = squareform(pdist(coordinates))\n",
    "\n",
    "# Number of points to select\n",
    "p = data[\"p\"]"
   ]
  },
  {
   "cell_type": "code",
   "execution_count": null,
   "metadata": {},
   "outputs": [],
   "source": [
    "fig, ax = plt.subplots(figsize=[5, 5], dpi=100)\n",
    "ax.scatter(\n",
    "    coordinates[:, 0],\n",
    "    coordinates[:, 1],\n",
    "    color=\"navy\"\n",
    ")\n",
    "\n",
    "ax.axis('off')\n",
    "\n",
    "fig.tight_layout()\n",
    "plt.show()"
   ]
  },
  {
   "cell_type": "markdown",
   "metadata": {},
   "source": [
    "## pyomo model"
   ]
  },
  {
   "cell_type": "code",
   "execution_count": null,
   "metadata": {},
   "outputs": [],
   "source": [
    "# Instantiate pyomo ConcreteModel\n",
    "# model = ###"
   ]
  },
  {
   "cell_type": "code",
   "execution_count": null,
   "metadata": {},
   "outputs": [],
   "source": [
    "# Sets of nodes and arcs\n",
    "# model.V = pyo.Set(initialize=###)\n",
    "# model.A = pyo.Set(\n",
    "#     initialize=[### for ### in ### for ### in ### if ###]\n",
    "# )"
   ]
  },
  {
   "cell_type": "code",
   "execution_count": null,
   "metadata": {},
   "outputs": [],
   "source": [
    "# Parameters\n",
    "# model.d = pyo.Param(###, initialize={###: weights[i, j] for ### in ###})\n",
    "# model.p = pyo.Param(initialize=###)\n",
    "\n",
    "# # Big M\n",
    "# model.M = pyo.Param(initialize=###)"
   ]
  },
  {
   "cell_type": "code",
   "execution_count": null,
   "metadata": {},
   "outputs": [],
   "source": [
    "# Decision variables\n",
    "# model.x = pyo.Var(###, within=###)\n",
    "# model.z = pyo.Var(###, within=###)\n",
    "# model.D = pyo.Var(within=###)"
   ]
  },
  {
   "cell_type": "code",
   "execution_count": null,
   "metadata": {},
   "outputs": [],
   "source": [
    "# Constraints\n",
    "# def p_selection(###):\n",
    "#     return ###\n",
    "\n",
    "\n",
    "# def dispersion_c1(###):\n",
    "#     return ###\n",
    "\n",
    "\n",
    "# def dispersion_c2(###):\n",
    "#     return ###\n",
    "\n",
    "\n",
    "# def dispersion_c3(###):\n",
    "#     return ###\n",
    "\n",
    "\n",
    "# def maxmin_rule(###):\n",
    "#     return ###\n",
    "\n",
    "\n",
    "# Set model attributes\n",
    "# model.p_selection = pyo.Constraint(rule=p_selection)\n",
    "# model.dispersion_c1 = pyo.Constraint(###, rule=dispersion_c1)\n",
    "# model.dispersion_c2 = pyo.Constraint(###, rule=dispersion_c2)\n",
    "# model.dispersion_c3 = pyo.Constraint(###, rule=dispersion_c3)\n",
    "# model.maxmin_rule = pyo.Constraint(###, rule=maxmin_rule)"
   ]
  },
  {
   "cell_type": "code",
   "execution_count": null,
   "metadata": {},
   "outputs": [],
   "source": [
    "# Objectives\n",
    "# model.obj_pdisp = pyo.Objective(expr=###, sense=###)\n",
    "\n",
    "\n",
    "# def obj_maxisum(model):\n",
    "#     return ###\n",
    "\n",
    "\n",
    "# model.obj_maxisum = pyo.Objective(rule=obj_maxisum, sense=pyo.maximize)\n",
    "# model.obj_maxisum.deactivate()"
   ]
  },
  {
   "cell_type": "markdown",
   "metadata": {},
   "source": [
    "## Solve"
   ]
  },
  {
   "cell_type": "code",
   "execution_count": null,
   "metadata": {},
   "outputs": [],
   "source": [
    "# Function to solve model\n",
    "def solve_model(model, solver, **kwargs):\n",
    "\n",
    "    # Solve p-dispersion problem\n",
    "    solver.solve(model, **kwargs)\n",
    "\n",
    "    # Include constraint that does not allow objective degradation\n",
    "    d_opt = model.obj_pdisp()\n",
    "    model.pdisp_degradation = pyo.Constraint(expr=d_opt <= model.D)\n",
    "\n",
    "    # Change active objective\n",
    "    model.obj_pdisp.deactivate()\n",
    "    model.obj_maxisum.activate()\n",
    "\n",
    "    # Solve maxisum model\n",
    "    solver.solve(model, **kwargs)"
   ]
  },
  {
   "cell_type": "code",
   "execution_count": null,
   "metadata": {},
   "outputs": [],
   "source": [
    "solver = pyo.SolverFactory(\"appsi_highs\")\n",
    "solver.options[\"time_limit\"] = 180\n",
    "solve_model(model, solver, tee=True)"
   ]
  },
  {
   "cell_type": "code",
   "execution_count": null,
   "metadata": {},
   "outputs": [],
   "source": [
    "fig, ax = plt.subplots(figsize=[5, 5], dpi=100)\n",
    "facilities = np.array([i for i in model.x if np.isclose(model.x[i].value, 1)])\n",
    "\n",
    "ax.scatter(\n",
    "    coordinates[:, 0],\n",
    "    coordinates[:, 1],\n",
    "    color=\"navy\"\n",
    ")\n",
    "\n",
    "ax.scatter(\n",
    "    coordinates[facilities, 0],\n",
    "    coordinates[facilities, 1],\n",
    "    color=\"firebrick\",\n",
    "    label=\"Facilities\"\n",
    ")\n",
    "\n",
    "ax.axis('off')\n",
    "\n",
    "fig.tight_layout()\n",
    "plt.show()"
   ]
  },
  {
   "cell_type": "code",
   "execution_count": null,
   "metadata": {},
   "outputs": [],
   "source": []
  }
 ],
 "metadata": {
  "kernelspec": {
   "display_name": "venv",
   "language": "python",
   "name": "python3"
  },
  "language_info": {
   "codemirror_mode": {
    "name": "ipython",
    "version": 3
   },
   "file_extension": ".py",
   "mimetype": "text/x-python",
   "name": "python",
   "nbconvert_exporter": "python",
   "pygments_lexer": "ipython3",
   "version": "3.9.7"
  }
 },
 "nbformat": 4,
 "nbformat_minor": 2
}
