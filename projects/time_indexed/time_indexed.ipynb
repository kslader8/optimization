{
 "cells": [
  {
   "cell_type": "markdown",
   "metadata": {},
   "source": [
    "# Time-Indexed Job-Shop"
   ]
  },
  {
   "cell_type": "markdown",
   "metadata": {},
   "source": [
    "$$\n",
    "\\begin{align}\n",
    "    \\text{min} \\quad & C \\\\\n",
    "    \\text{s.t.} \\quad & \\sum_{t \\in T}{y_{m, j, t}} = 1\n",
    "        & \\forall ~ j \\in J; m \\in M \\\\\n",
    "    & \\sum_{j \\in J} x_{m, j, t} \\leq 1\n",
    "        & \\forall ~ m \\in M; t \\in T \\\\\n",
    "    & \\sum_{t \\in T}{(t + p_{\\sigma_{h - 1}^j, j}) y_{\\sigma_{h - 1}^j, j, t}} \\leq\n",
    "    \\sum_{t \\in T}{t y_{\\sigma_{h}^j, j, t}}\n",
    "        & \\forall ~ j \\in J; h \\in (1, 2, ..., |M|) \\\\\n",
    "    & y_{m, j, t} \\leq x_{m, j, t}\n",
    "        & \\forall ~ m \\in M; j \\in J; t \\in T \\\\\n",
    "    & y_{m, j, t} \\leq 1 - x_{m, j, t - 1}\n",
    "        & \\forall ~ m \\in M; j \\in J; t \\in T \\setminus \\{0\\} \\\\\n",
    "    & x_{m, j, t} - x_{m, j, t - 1} \\leq y_{m, j, t}\n",
    "        & \\forall ~ m \\in M; j \\in J; t \\in T \\setminus \\{0\\} \\\\\n",
    "    & t x_{m, j, t} \\leq C\n",
    "        & \\forall ~ m \\in M; j \\in J; t \\in T \\\\\n",
    "\n",
    "    & y_{m, j, t}, x_{m, j, t} \\in \\{0, 1\\} & \\forall ~ j; m \\in M; t \\in T\\\\\n",
    "\\end{align}\n",
    "$$"
   ]
  },
  {
   "cell_type": "markdown",
   "metadata": {},
   "source": [
    "## Setup"
   ]
  },
  {
   "cell_type": "code",
   "execution_count": 1,
   "metadata": {},
   "outputs": [],
   "source": [
    "%load_ext autoreload\n",
    "%autoreload 2"
   ]
  },
  {
   "cell_type": "markdown",
   "metadata": {},
   "source": [
    "### Libraries"
   ]
  },
  {
   "cell_type": "code",
   "execution_count": 2,
   "metadata": {},
   "outputs": [],
   "source": [
    "import json\n",
    "import pathlib\n",
    "\n",
    "import numpy as np\n",
    "import pandas as pd \n",
    "import pyomo.environ as pyo"
   ]
  },
  {
   "cell_type": "code",
   "execution_count": 3,
   "metadata": {},
   "outputs": [],
   "source": [
    "from plotly import express as px\n",
    "from plotly import graph_objects as go"
   ]
  },
  {
   "cell_type": "markdown",
   "metadata": {},
   "source": [
    "### Configuration"
   ]
  },
  {
   "cell_type": "code",
   "execution_count": 4,
   "metadata": {},
   "outputs": [],
   "source": [
    "pd.options.plotting.backend = \"plotly\""
   ]
  },
  {
   "cell_type": "markdown",
   "metadata": {},
   "source": [
    "## Data"
   ]
  },
  {
   "cell_type": "markdown",
   "metadata": {},
   "source": [
    "### Read"
   ]
  },
  {
   "cell_type": "code",
   "execution_count": 5,
   "metadata": {},
   "outputs": [
    {
     "data": {
      "text/plain": [
       "WindowsPath('c:/Users/kslad/Documents/projects/optimization/projects/time_indexed')"
      ]
     },
     "execution_count": 5,
     "metadata": {},
     "output_type": "execute_result"
    }
   ],
   "source": [
    "pathlib.Path.cwd()"
   ]
  },
  {
   "cell_type": "code",
   "execution_count": 6,
   "metadata": {},
   "outputs": [
    {
     "data": {
      "text/plain": [
       "WindowsPath('c:/Users/kslad/Documents/projects/optimization/projects/time_indexed/data')"
      ]
     },
     "execution_count": 6,
     "metadata": {},
     "output_type": "execute_result"
    }
   ],
   "source": [
    "data_directory = pathlib.Path(\"data\")\n",
    "data_directory.absolute()"
   ]
  },
  {
   "cell_type": "code",
   "execution_count": 7,
   "metadata": {},
   "outputs": [
    {
     "data": {
      "text/plain": [
       "{'technology': [[0, 1, 2], [2, 0, 1], [1, 2, 0], [0, 1, 2]],\n",
       " 'processing': [{'machine': 0, 'job': 0, 'time': 9},\n",
       "  {'machine': 0, 'job': 1, 'time': 10},\n",
       "  {'machine': 0, 'job': 2, 'time': 18},\n",
       "  {'machine': 0, 'job': 3, 'time': 14},\n",
       "  {'machine': 1, 'job': 0, 'time': 7},\n",
       "  {'machine': 1, 'job': 1, 'time': 16},\n",
       "  {'machine': 1, 'job': 2, 'time': 11},\n",
       "  {'machine': 1, 'job': 3, 'time': 15},\n",
       "  {'machine': 2, 'job': 0, 'time': 5},\n",
       "  {'machine': 2, 'job': 1, 'time': 10},\n",
       "  {'machine': 2, 'job': 2, 'time': 13},\n",
       "  {'machine': 2, 'job': 3, 'time': 17}]}"
      ]
     },
     "execution_count": 7,
     "metadata": {},
     "output_type": "execute_result"
    }
   ],
   "source": [
    "with (data_directory / \"random_3_4.json\").open(mode=\"r\") as file:\n",
    "    data = json.load(file)\n",
    "\n",
    "data"
   ]
  },
  {
   "cell_type": "markdown",
   "metadata": {},
   "source": [
    "### Prepare"
   ]
  },
  {
   "cell_type": "code",
   "execution_count": 8,
   "metadata": {},
   "outputs": [
    {
     "data": {
      "text/plain": [
       "[(0, 1, 0),\n",
       " (1, 2, 0),\n",
       " (2, 0, 1),\n",
       " (0, 1, 1),\n",
       " (1, 2, 2),\n",
       " (2, 0, 2),\n",
       " (0, 1, 3),\n",
       " (1, 2, 3)]"
      ]
     },
     "execution_count": 8,
     "metadata": {},
     "output_type": "execute_result"
    }
   ],
   "source": [
    "machines = sorted(data[\"technology\"][0])\n",
    "jobs = list(range(len(data[\"technology\"])))\n",
    "processing_time = {\n",
    "    (record[\"machine\"], record[\"job\"]): record[\"time\"]\n",
    "    for record in data[\"processing\"]\n",
    "}\n",
    "sequences = [\n",
    "    (m1, row[h + 1], j)\n",
    "    for j, row in enumerate(data[\"technology\"])\n",
    "    for h, m1 in enumerate(row[:-1])\n",
    "]\n",
    "\n",
    "sequences"
   ]
  },
  {
   "cell_type": "markdown",
   "metadata": {},
   "source": [
    "## Model"
   ]
  },
  {
   "cell_type": "code",
   "execution_count": 9,
   "metadata": {},
   "outputs": [],
   "source": [
    "model = pyo.ConcreteModel()"
   ]
  },
  {
   "cell_type": "markdown",
   "metadata": {},
   "source": [
    "### Sets"
   ]
  },
  {
   "cell_type": "code",
   "execution_count": 10,
   "metadata": {},
   "outputs": [],
   "source": [
    "model.add_component('machines', pyo.Set(initialize=machines))\n",
    "model.add_component('jobs', pyo.Set(initialize=jobs))\n",
    "model.add_component('time_periods', pyo.Set(initialize=range(sum(p for p in processing_time.values()))))\n",
    "model.add_component('sequences', pyo.Set(initialize=sequences))"
   ]
  },
  {
   "cell_type": "markdown",
   "metadata": {},
   "source": [
    "### Parameters\n"
   ]
  },
  {
   "cell_type": "code",
   "execution_count": 11,
   "metadata": {},
   "outputs": [],
   "source": [
    "model.add_component('processing_time', pyo.Param(model.machines, model.jobs, initialize=processing_time))"
   ]
  },
  {
   "cell_type": "markdown",
   "metadata": {},
   "source": [
    "### Decision Variables"
   ]
  },
  {
   "cell_type": "code",
   "execution_count": 12,
   "metadata": {},
   "outputs": [],
   "source": [
    "model.add_component('x', pyo.Var(model.machines, model.jobs, model.time_periods, within=pyo.NonNegativeReals, bounds=(0, 1)))\n",
    "model.add_component('y', pyo.Var(model.machines, model.jobs, model.time_periods, within=pyo.Binary))\n",
    "model.add_component('C', pyo.Var(within=pyo.NonNegativeReals))"
   ]
  },
  {
   "cell_type": "markdown",
   "metadata": {},
   "source": [
    "### Constraints"
   ]
  },
  {
   "cell_type": "code",
   "execution_count": 13,
   "metadata": {},
   "outputs": [],
   "source": [
    "@model.Constraint(model.machines, model.jobs)\n",
    "def constraint_unique_start(model, machine, job):\n",
    "    return sum(model.y[machine, job, : ])  == 1\n",
    "\n",
    "@model.Constraint(model.machines, model.time_periods)\n",
    "def constraint_unique_machine(model, machine, time_period):\n",
    "    return sum(model.x[machine, :, time_period]) <= 1\n",
    "\n",
    "@model.Constraint(model.sequences)\n",
    "def constraint_sequence_order(model, machine_1, machine_2, job):\n",
    "    lhs = sum((time_period + model.processing_time[machine_1, job]) * model.y[machine_1, job, time_period] for time_period in model.time_periods)\n",
    "    rhs = sum((time_period + model.processing_time[machine_2, job]) * model.y[machine_2, job, time_period] for time_period in model.time_periods)\n",
    "    return lhs <= rhs\n",
    "\n",
    "@model.Constraint(model.machines, model.jobs, model.time_periods)\n",
    "def constraint_job_duration(model, machine, job, time_period):\n",
    "    if time_period <= model.time_periods.last() - model.processing_time[machine, job]:\n",
    "        lhs = model.processing_time[machine, job] * model.y[machine, job, time_period]\n",
    "        rhs = sum(model.x[machine, job, ending_time_period] for ending_time_period in range(time_period, time_period + model.processing_time[machine, job]))\n",
    "        return lhs <= rhs\n",
    "    else:\n",
    "        return model.y[machine, job, time_period] == 0.0\n",
    "\n",
    "@model.Constraint(model.machines, model.jobs)\n",
    "def constraint_duration_complement(model, machine, job):\n",
    "    return sum(model.x[machine, job, :]) == model.processing_time[machine, job]\n",
    "\n",
    "@model.Constraint(model.machines, model.jobs, model.time_periods)\n",
    "def constraint_start_c1(model, machine, job, time_period):\n",
    "    return model.y[machine, job, time_period] <= model.x[machine, job, time_period]\n",
    "\n",
    "@model.Constraint(model.machines, model.jobs, model.time_periods)\n",
    "def constraint_start_c2(model, machine, job, time_period):\n",
    "    if time_period != model.time_periods.first():\n",
    "        previous_time_period = model.time_periods.prev(time_period)\n",
    "        return model.y[machine, job, time_period] <= 1.0 - model.x[machine, job, previous_time_period]\n",
    "    else:\n",
    "        return pyo.Constraint.Skip\n",
    "\n",
    "@model.Constraint(model.machines, model.jobs, model.time_periods)\n",
    "def constraint_start_c3(model, machine, job, time_period):\n",
    "    if time_period != model.time_periods.first():\n",
    "        previous_time_period = model.time_periods.prev(time_period)\n",
    "        return model.x[machine, job, time_period] - model.x[machine, job, previous_time_period] <= model.y[machine, job, time_period] \n",
    "    else:\n",
    "        return pyo.Constraint.Skip\n",
    "\n",
    "@model.Constraint(model.machines, model.jobs, model.time_periods)\n",
    "def constraint_total_time(model, machine, job, time_period):\n",
    "    return time_period * model.x[machine, job, time_period] <= model.C"
   ]
  },
  {
   "cell_type": "markdown",
   "metadata": {},
   "source": [
    "### Objective"
   ]
  },
  {
   "cell_type": "code",
   "execution_count": 14,
   "metadata": {},
   "outputs": [],
   "source": [
    "model.add_component('objective_function', pyo.Objective(expr=model.C + 1, sense = pyo.minimize))"
   ]
  },
  {
   "cell_type": "markdown",
   "metadata": {},
   "source": [
    "## Solve"
   ]
  },
  {
   "cell_type": "code",
   "execution_count": null,
   "metadata": {},
   "outputs": [
    {
     "name": "stdout",
     "output_type": "stream",
     "text": [
      "Running HiGHS 1.7.2 (git hash: 184e327): Copyright (c) 2024 HiGHS under MIT licence terms\n"
     ]
    }
   ],
   "source": [
    "solver = pyo.SolverFactory(\"appsi_highs\")\n",
    "solver.options[\"mip_heuristic_effort\"] = 0.2\n",
    "solver.options[\"time_limit\"] = 120\n",
    "solver.options[\"log_file\"] = \"highs.log\"\n",
    "solver.solve(model, tee=True)"
   ]
  }
 ],
 "metadata": {
  "kernelspec": {
   "display_name": ".venv",
   "language": "python",
   "name": "python3"
  },
  "language_info": {
   "codemirror_mode": {
    "name": "ipython",
    "version": 3
   },
   "file_extension": ".py",
   "mimetype": "text/x-python",
   "name": "python",
   "nbconvert_exporter": "python",
   "pygments_lexer": "ipython3",
   "version": "3.11.9"
  }
 },
 "nbformat": 4,
 "nbformat_minor": 2
}
