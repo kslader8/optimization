{
 "cells": [
  {
   "cell_type": "markdown",
   "metadata": {},
   "source": [
    "# Time-Indexed Job-Shop"
   ]
  },
  {
   "cell_type": "markdown",
   "metadata": {},
   "source": [
    "$$\n",
    "\\begin{align}\n",
    "    \\text{min} \\quad & C \\\\\n",
    "    \\text{s.t.} \\quad & \\sum_{t \\in T}{y_{m, j, t}} = 1\n",
    "        & \\forall ~ j \\in J; m \\in M \\\\\n",
    "    & \\sum_{j \\in J} x_{m, j, t} \\leq 1\n",
    "        & \\forall ~ m \\in M; t \\in T \\\\\n",
    "    & \\sum_{t \\in T}{(t + p_{\\sigma_{h - 1}^j, j}) y_{\\sigma_{h - 1}^j, j, t}} \\leq\n",
    "    \\sum_{t \\in T}{t y_{\\sigma_{h}^j, j, t}}\n",
    "        & \\forall ~ j \\in J; h \\in (1, 2, ..., |M|) \\\\\n",
    "    & y_{m, j, t} \\leq x_{m, j, t}\n",
    "        & \\forall ~ m \\in M; j \\in J; t \\in T \\\\\n",
    "    & y_{m, j, t} \\leq 1 - x_{m, j, t - 1}\n",
    "        & \\forall ~ m \\in M; j \\in J; t \\in T \\setminus \\{0\\} \\\\\n",
    "    & x_{m, j, t} - x_{m, j, t - 1} \\leq y_{m, j, t}\n",
    "        & \\forall ~ m \\in M; j \\in J; t \\in T \\setminus \\{0\\} \\\\\n",
    "    & t x_{m, j, t} \\leq C\n",
    "        & \\forall ~ m \\in M; j \\in J; t \\in T \\\\\n",
    "\n",
    "    & y_{m, j, t}, x_{m, j, t} \\in \\{0, 1\\} & \\forall ~ j; m \\in M; t \\in T\\\\\n",
    "\\end{align}\n",
    "$$"
   ]
  },
  {
   "cell_type": "markdown",
   "metadata": {},
   "source": [
    "## Setup"
   ]
  },
  {
   "cell_type": "code",
   "execution_count": 1,
   "metadata": {},
   "outputs": [],
   "source": [
    "%load_ext autoreload\n",
    "%autoreload 2"
   ]
  },
  {
   "cell_type": "markdown",
   "metadata": {},
   "source": [
    "### Libraries"
   ]
  },
  {
   "cell_type": "code",
   "execution_count": 2,
   "metadata": {},
   "outputs": [],
   "source": [
    "import json\n",
    "import pathlib\n",
    "\n",
    "import numpy as np\n",
    "import pandas as pd \n",
    "import pyomo.environ as pyo"
   ]
  },
  {
   "cell_type": "code",
   "execution_count": 3,
   "metadata": {},
   "outputs": [],
   "source": [
    "from plotly import express as px\n",
    "from plotly import graph_objects as go"
   ]
  },
  {
   "cell_type": "markdown",
   "metadata": {},
   "source": [
    "### Configuration"
   ]
  },
  {
   "cell_type": "code",
   "execution_count": 4,
   "metadata": {},
   "outputs": [],
   "source": [
    "pd.options.plotting.backend = \"plotly\""
   ]
  },
  {
   "cell_type": "markdown",
   "metadata": {},
   "source": [
    "## Data"
   ]
  },
  {
   "cell_type": "markdown",
   "metadata": {},
   "source": [
    "### Read"
   ]
  },
  {
   "cell_type": "code",
   "execution_count": 5,
   "metadata": {},
   "outputs": [
    {
     "data": {
      "text/plain": [
       "WindowsPath('c:/Users/kslad/Documents/projects/optimization/projects/time_indexed')"
      ]
     },
     "execution_count": 5,
     "metadata": {},
     "output_type": "execute_result"
    }
   ],
   "source": [
    "pathlib.Path.cwd()"
   ]
  },
  {
   "cell_type": "code",
   "execution_count": 6,
   "metadata": {},
   "outputs": [
    {
     "data": {
      "text/plain": [
       "WindowsPath('c:/Users/kslad/Documents/projects/optimization/projects/time_indexed/data')"
      ]
     },
     "execution_count": 6,
     "metadata": {},
     "output_type": "execute_result"
    }
   ],
   "source": [
    "data_directory = pathlib.Path(\"data\")\n",
    "data_directory.absolute()"
   ]
  },
  {
   "cell_type": "code",
   "execution_count": 7,
   "metadata": {},
   "outputs": [
    {
     "data": {
      "text/plain": [
       "{'technology': [[0, 1, 2], [2, 0, 1], [1, 2, 0], [0, 1, 2]],\n",
       " 'processing': [{'machine': 0, 'job': 0, 'time': 9},\n",
       "  {'machine': 0, 'job': 1, 'time': 10},\n",
       "  {'machine': 0, 'job': 2, 'time': 18},\n",
       "  {'machine': 0, 'job': 3, 'time': 14},\n",
       "  {'machine': 1, 'job': 0, 'time': 7},\n",
       "  {'machine': 1, 'job': 1, 'time': 16},\n",
       "  {'machine': 1, 'job': 2, 'time': 11},\n",
       "  {'machine': 1, 'job': 3, 'time': 15},\n",
       "  {'machine': 2, 'job': 0, 'time': 5},\n",
       "  {'machine': 2, 'job': 1, 'time': 10},\n",
       "  {'machine': 2, 'job': 2, 'time': 13},\n",
       "  {'machine': 2, 'job': 3, 'time': 17}]}"
      ]
     },
     "execution_count": 7,
     "metadata": {},
     "output_type": "execute_result"
    }
   ],
   "source": [
    "with (data_directory / \"random_3_4.json\").open(mode=\"r\") as file:\n",
    "    data = json.load(file)\n",
    "\n",
    "data"
   ]
  },
  {
   "cell_type": "markdown",
   "metadata": {},
   "source": [
    "### Prepare"
   ]
  },
  {
   "cell_type": "code",
   "execution_count": 8,
   "metadata": {},
   "outputs": [
    {
     "data": {
      "text/plain": [
       "[(0, 1, 0),\n",
       " (1, 2, 0),\n",
       " (2, 0, 1),\n",
       " (0, 1, 1),\n",
       " (1, 2, 2),\n",
       " (2, 0, 2),\n",
       " (0, 1, 3),\n",
       " (1, 2, 3)]"
      ]
     },
     "execution_count": 8,
     "metadata": {},
     "output_type": "execute_result"
    }
   ],
   "source": [
    "machines = sorted(data[\"technology\"][0])\n",
    "jobs = list(range(len(data[\"technology\"])))\n",
    "processing_time = {\n",
    "    (record[\"machine\"], record[\"job\"]): record[\"time\"]\n",
    "    for record in data[\"processing\"]\n",
    "}\n",
    "sequences = [\n",
    "    (m1, row[h + 1], j)\n",
    "    for j, row in enumerate(data[\"technology\"])\n",
    "    for h, m1 in enumerate(row[:-1])\n",
    "]\n",
    "\n",
    "sequences"
   ]
  },
  {
   "cell_type": "markdown",
   "metadata": {},
   "source": [
    "## Model"
   ]
  },
  {
   "cell_type": "code",
   "execution_count": 9,
   "metadata": {},
   "outputs": [],
   "source": [
    "model = pyo.ConcreteModel()"
   ]
  },
  {
   "cell_type": "markdown",
   "metadata": {},
   "source": [
    "### Sets"
   ]
  },
  {
   "cell_type": "code",
   "execution_count": 10,
   "metadata": {},
   "outputs": [],
   "source": [
    "model.add_component('machines', pyo.Set(initialize=machines))\n",
    "model.add_component('jobs', pyo.Set(initialize=jobs))\n",
    "model.add_component('time_periods', pyo.Set(initialize=range(sum(p for p in processing_time.values()))))\n",
    "model.add_component('sequences', pyo.Set(initialize=sequences))"
   ]
  },
  {
   "cell_type": "markdown",
   "metadata": {},
   "source": [
    "### Parameters\n"
   ]
  },
  {
   "cell_type": "code",
   "execution_count": 11,
   "metadata": {},
   "outputs": [],
   "source": [
    "model.add_component('processing_time', pyo.Param(model.machines, model.jobs, initialize=processing_time))"
   ]
  },
  {
   "cell_type": "markdown",
   "metadata": {},
   "source": [
    "### Decision Variables"
   ]
  },
  {
   "cell_type": "code",
   "execution_count": 12,
   "metadata": {},
   "outputs": [],
   "source": [
    "model.add_component('x', pyo.Var(model.machines, model.jobs, model.time_periods, within=pyo.NonNegativeReals, bounds=(0, 1)))\n",
    "model.add_component('y', pyo.Var(model.machines, model.jobs, model.time_periods, within=pyo.Binary))\n",
    "model.add_component('C', pyo.Var(within=pyo.NonNegativeReals))"
   ]
  },
  {
   "cell_type": "markdown",
   "metadata": {},
   "source": [
    "### Constraints"
   ]
  },
  {
   "cell_type": "code",
   "execution_count": 13,
   "metadata": {},
   "outputs": [],
   "source": [
    "def constraint_unique_start(model, machine, job):\n",
    "    return sum(model.y[machine, job, : ])  == 1\n",
    "\n",
    "\n",
    "def constraint_unique_machine(model, machine, time_period):\n",
    "    return sum(model.x[machine, :, time_period]) <= 1\n",
    "\n",
    "\n",
    "def constraint_sequence_order(model, machine_1, machine_2, job):\n",
    "    lhs = sum((time_period + model.processing_time[machine_1, job]) * model.y[machine_1, job, time_period] for time_period in model.time_periods)\n",
    "    rhs = sum((time_period + model.processing_time[machine_2, job]) * model.y[machine_2, job, time_period] for time_period in model.time_periods)\n",
    "    return lhs <= rhs\n",
    "\n",
    "\n",
    "def constraint_job_duration(model, machine, job, time_period):\n",
    "    if time_period <= model.time_periods.last() - model.processing_time[machine, job]:\n",
    "        lhs = model.processing_time[machine, job] * model.y[machine, job, time_period]\n",
    "        rhs = sum(model.x[machine, job, ending_time_period] for ending_time_period in range(time_period, time_period + model.processing_time[machine, job]))\n",
    "        return lhs <= rhs\n",
    "    else:\n",
    "        return model.y[machine, job, time_period] == 0.0\n",
    "\n",
    "\n",
    "def constraint_duration_complement(model, machine, job):\n",
    "    return sum(model.x[machine, job, :]) == model.processing_time[machine, job]\n",
    "\n",
    "\n",
    "def constraint_start_c1(model, machine, job, time_period):\n",
    "    return model.y[machine, job, time_period] <= model.x[machine, job, time_period]\n",
    "\n",
    "\n",
    "def constraint_start_c2(model, machine, job, time_period):\n",
    "    if time_period != model.time_periods.first():\n",
    "        previous_time_period = model.time_periods.prev(time_period)\n",
    "        return model.y[machine, job, time_period] <= 1.0 - model.x[machine, job, previous_time_period]\n",
    "    else:\n",
    "        return pyo.Constraint.Skip\n",
    "\n",
    "\n",
    "def constraint_start_c3(model, machine, job, time_period):\n",
    "    if time_period != model.time_periods.first():\n",
    "        previous_time_period = model.time_periods.prev(time_period)\n",
    "        return model.x[machine, job, time_period] - model.x[machine, job, previous_time_period] <= model.y[machine, job, time_period] \n",
    "    else:\n",
    "        return pyo.Constraint.Skip\n",
    "\n",
    "\n",
    "def constraint_total_time(model, machine, job, time_period):\n",
    "    return time_period * model.x[machine, job, time_period] <= model.C"
   ]
  },
  {
   "cell_type": "code",
   "execution_count": 14,
   "metadata": {},
   "outputs": [],
   "source": [
    "model.add_component('constraint_unique_start', pyo.Constraint(model.machines, model.jobs, rule=constraint_unique_start))\n",
    "model.add_component('constraint_unique_machine', pyo.Constraint(model.machines, model.time_periods, rule=constraint_unique_machine))\n",
    "model.add_component('constraint_sequence_order', pyo.Constraint(model.sequences, rule=constraint_sequence_order))\n",
    "model.add_component('constraint_job_duration', pyo.Constraint(model.machines, model.jobs, model.time_periods, rule=constraint_job_duration))\n",
    "model.add_component('constraint_duration_complement', pyo.Constraint(model.machines, model.jobs, rule=constraint_duration_complement))\n",
    "model.add_component('constraint_start_c1', pyo.Constraint(model.machines, model.jobs, model.time_periods, rule=constraint_start_c1))\n",
    "model.add_component('constraint_start_c2', pyo.Constraint(model.machines, model.jobs, model.time_periods, rule=constraint_start_c2))\n",
    "model.add_component('constraint_start_c3', pyo.Constraint(model.machines, model.jobs, model.time_periods, rule=constraint_start_c3))\n",
    "model.add_component('constraint_total_time', pyo.Constraint(model.machines, model.jobs, model.time_periods, rule=constraint_total_time))"
   ]
  },
  {
   "cell_type": "markdown",
   "metadata": {},
   "source": [
    "### Objective"
   ]
  },
  {
   "cell_type": "code",
   "execution_count": 15,
   "metadata": {},
   "outputs": [],
   "source": [
    "model.add_component('objective_function', pyo.Objective(expr=model.C + 1, sense = pyo.minimize))"
   ]
  },
  {
   "cell_type": "markdown",
   "metadata": {},
   "source": [
    "## Solve"
   ]
  },
  {
   "cell_type": "code",
   "execution_count": 16,
   "metadata": {},
   "outputs": [
    {
     "name": "stdout",
     "output_type": "stream",
     "text": [
      "Running HiGHS 1.7.2 (git hash: 184e327): Copyright (c) 2024 HiGHS under MIT licence terms\n",
      "Coefficient ranges:\n",
      "  Matrix [1e+00, 2e+02]\n",
      "  Cost   [1e+00, 1e+00]\n",
      "  Bound  [1e+00, 1e+00]\n",
      "  RHS    [1e+00, 2e+01]\n",
      "Presolving model\n",
      "8696 rows, 3336 cols, 42741 nonzeros  0s\n",
      "8686 rows, 3332 cols, 42673 nonzeros  0s\n",
      "\n",
      "Solving MIP model with:\n",
      "   8686 rows\n",
      "   3332 cols (1591 binary, 0 integer, 0 implied int., 1741 continuous)\n",
      "   42673 nonzeros\n",
      "\n",
      "        Nodes      |    B&B Tree     |            Objective Bounds              |  Dynamic Constraints |       Work      \n",
      "     Proc. InQueue |  Leaves   Expl. | BestBound       BestSol              Gap |   Cuts   InLp Confl. | LpIters     Time\n",
      "\n",
      "         0       0         0   0.00%   1               inf                  inf        0      0      0         0     0.7s\n",
      "         0       0         0   0.00%   5.059816955     inf                  inf        0      0      4      5252     2.0s\n",
      "         0       0         0   0.00%   5.17090552      inf                  inf    12687   1175     96     11959     7.6s\n",
      "         0       0         0   0.00%   5.60999237      inf                  inf    10914   2250    138     17076    12.8s\n",
      "         0       0         0   0.00%   6.35809719      inf                  inf    11572   4807    156     23347    18.5s\n",
      "         0       0         0   0.00%   7.140519908     inf                  inf    13480   6355    164     28640    24.6s\n",
      "         0       0         0   0.00%   7.775303438     inf                  inf    15466   6092    172     32440    30.5s\n",
      "         0       0         0   0.00%   8.124037932     inf                  inf    14361   4722    178     35737    39.5s\n",
      "         0       0         0   0.00%   8.308102032     inf                  inf    13667   5086    182     37247    45.0s\n",
      "         0       0         0   0.00%   8.713879643     inf                  inf    16765   5944    186     39579    51.0s\n",
      "         0       0         0   0.00%   8.884417699     inf                  inf    13409   3955    190     41095    56.2s\n",
      "         0       0         0   0.00%   9.084502156     inf                  inf    13531   4429    194     43061    61.7s\n",
      "         0       0         0   0.00%   9.473597823     inf                  inf    16289   3798    198     44847    66.8s\n",
      "         0       0         0   0.00%   9.622735578     inf                  inf    13821   4191    208     46123    71.9s\n",
      "         0       0         0   0.00%   9.805480491     inf                  inf    16033   4545    210     47326    79.6s\n",
      "         0       0         0   0.00%   10.12769818     inf                  inf    14745   3891    220     49770    87.2s\n",
      "         0       0         0   0.00%   10.30397261     inf                  inf    13818   4290    224     51622    92.5s\n",
      "         0       0         0   0.00%   10.47182377     inf                  inf    12050   3199    228     52913    97.6s\n",
      "         0       0         0   0.00%   10.77874834     inf                  inf    14579   3807    232     54680   103.1s\n",
      "         0       0         0   0.00%   10.98762835     inf                  inf    14120   4193    236     56271   108.9s\n",
      "\n",
      "        Nodes      |    B&B Tree     |            Objective Bounds              |  Dynamic Constraints |       Work      \n",
      "     Proc. InQueue |  Leaves   Expl. | BestBound       BestSol              Gap |   Cuts   InLp Confl. | LpIters     Time\n",
      "\n",
      "         0       0         0   0.00%   11.14923854     inf                  inf    12931   3459    242     58321   116.5s\n",
      "\n",
      "Solving report\n",
      "  Status            Time limit reached\n",
      "  Primal bound      inf\n",
      "  Dual bound        11.2694683613\n",
      "  Gap               inf\n",
      "  Solution status   -\n",
      "  Timing            120.90 (total)\n",
      "                    0.69 (presolve)\n",
      "                    0.00 (postsolve)\n",
      "  Nodes             0\n",
      "  LP iterations     59338 (total)\n",
      "                    0 (strong br.)\n",
      "                    54086 (separation)\n",
      "                    0 (heuristics)\n"
     ]
    },
    {
     "ename": "RuntimeError",
     "evalue": "A feasible solution was not found, so no solution can be loaded. If using the appsi.solvers.Highs interface, you can set opt.config.load_solution=False. If using the environ.SolverFactory interface, you can set opt.solve(model, load_solutions = False). Then you can check results.termination_condition and results.best_feasible_objective before loading a solution.",
     "output_type": "error",
     "traceback": [
      "\u001b[1;31m---------------------------------------------------------------------------\u001b[0m",
      "\u001b[1;31mRuntimeError\u001b[0m                              Traceback (most recent call last)",
      "Cell \u001b[1;32mIn[16], line 5\u001b[0m\n\u001b[0;32m      3\u001b[0m solver\u001b[38;5;241m.\u001b[39moptions[\u001b[38;5;124m\"\u001b[39m\u001b[38;5;124mtime_limit\u001b[39m\u001b[38;5;124m\"\u001b[39m] \u001b[38;5;241m=\u001b[39m \u001b[38;5;241m120\u001b[39m\n\u001b[0;32m      4\u001b[0m solver\u001b[38;5;241m.\u001b[39moptions[\u001b[38;5;124m\"\u001b[39m\u001b[38;5;124mlog_file\u001b[39m\u001b[38;5;124m\"\u001b[39m] \u001b[38;5;241m=\u001b[39m \u001b[38;5;124m\"\u001b[39m\u001b[38;5;124mhighs.log\u001b[39m\u001b[38;5;124m\"\u001b[39m\n\u001b[1;32m----> 5\u001b[0m \u001b[43msolver\u001b[49m\u001b[38;5;241;43m.\u001b[39;49m\u001b[43msolve\u001b[49m\u001b[43m(\u001b[49m\u001b[43mmodel\u001b[49m\u001b[43m,\u001b[49m\u001b[43m \u001b[49m\u001b[43mtee\u001b[49m\u001b[38;5;241;43m=\u001b[39;49m\u001b[38;5;28;43;01mTrue\u001b[39;49;00m\u001b[43m)\u001b[49m\n",
      "File \u001b[1;32mc:\\Users\\kslad\\Documents\\projects\\optimization\\.venv\\Lib\\site-packages\\pyomo\\contrib\\appsi\\base.py:1537\u001b[0m, in \u001b[0;36mLegacySolverInterface.solve\u001b[1;34m(self, model, tee, load_solutions, logfile, solnfile, timelimit, report_timing, solver_io, suffixes, options, keepfiles, symbolic_solver_labels)\u001b[0m\n\u001b[0;32m   1534\u001b[0m \u001b[38;5;28;01mif\u001b[39;00m options \u001b[38;5;129;01mis\u001b[39;00m \u001b[38;5;129;01mnot\u001b[39;00m \u001b[38;5;28;01mNone\u001b[39;00m:\n\u001b[0;32m   1535\u001b[0m     \u001b[38;5;28mself\u001b[39m\u001b[38;5;241m.\u001b[39moptions \u001b[38;5;241m=\u001b[39m options\n\u001b[1;32m-> 1537\u001b[0m results: Results \u001b[38;5;241m=\u001b[39m \u001b[38;5;28;43msuper\u001b[39;49m\u001b[43m(\u001b[49m\u001b[43mLegacySolverInterface\u001b[49m\u001b[43m,\u001b[49m\u001b[43m \u001b[49m\u001b[38;5;28;43mself\u001b[39;49m\u001b[43m)\u001b[49m\u001b[38;5;241;43m.\u001b[39;49m\u001b[43msolve\u001b[49m\u001b[43m(\u001b[49m\u001b[43mmodel\u001b[49m\u001b[43m)\u001b[49m\n\u001b[0;32m   1539\u001b[0m legacy_results \u001b[38;5;241m=\u001b[39m LegacySolverResults()\n\u001b[0;32m   1540\u001b[0m legacy_soln \u001b[38;5;241m=\u001b[39m LegacySolution()\n",
      "File \u001b[1;32mc:\\Users\\kslad\\Documents\\projects\\optimization\\.venv\\Lib\\site-packages\\pyomo\\contrib\\appsi\\solvers\\highs.py:269\u001b[0m, in \u001b[0;36mHighs.solve\u001b[1;34m(self, model, timer)\u001b[0m\n\u001b[0;32m    267\u001b[0m     \u001b[38;5;28mself\u001b[39m\u001b[38;5;241m.\u001b[39mupdate(timer\u001b[38;5;241m=\u001b[39mtimer)\n\u001b[0;32m    268\u001b[0m     timer\u001b[38;5;241m.\u001b[39mstop(\u001b[38;5;124m'\u001b[39m\u001b[38;5;124mupdate\u001b[39m\u001b[38;5;124m'\u001b[39m)\n\u001b[1;32m--> 269\u001b[0m res \u001b[38;5;241m=\u001b[39m \u001b[38;5;28;43mself\u001b[39;49m\u001b[38;5;241;43m.\u001b[39;49m\u001b[43m_solve\u001b[49m\u001b[43m(\u001b[49m\u001b[43mtimer\u001b[49m\u001b[43m)\u001b[49m\n\u001b[0;32m    270\u001b[0m \u001b[38;5;28mself\u001b[39m\u001b[38;5;241m.\u001b[39m_last_results_object \u001b[38;5;241m=\u001b[39m res\n\u001b[0;32m    271\u001b[0m \u001b[38;5;28;01mif\u001b[39;00m \u001b[38;5;28mself\u001b[39m\u001b[38;5;241m.\u001b[39mconfig\u001b[38;5;241m.\u001b[39mreport_timing:\n",
      "File \u001b[1;32mc:\\Users\\kslad\\Documents\\projects\\optimization\\.venv\\Lib\\site-packages\\pyomo\\contrib\\appsi\\solvers\\highs.py:253\u001b[0m, in \u001b[0;36mHighs._solve\u001b[1;34m(self, timer)\u001b[0m\n\u001b[0;32m    250\u001b[0m         \u001b[38;5;28mself\u001b[39m\u001b[38;5;241m.\u001b[39m_solver_model\u001b[38;5;241m.\u001b[39mrun()\n\u001b[0;32m    251\u001b[0m         timer\u001b[38;5;241m.\u001b[39mstop(\u001b[38;5;124m'\u001b[39m\u001b[38;5;124moptimize\u001b[39m\u001b[38;5;124m'\u001b[39m)\n\u001b[1;32m--> 253\u001b[0m \u001b[38;5;28;01mreturn\u001b[39;00m \u001b[38;5;28;43mself\u001b[39;49m\u001b[38;5;241;43m.\u001b[39;49m\u001b[43m_postsolve\u001b[49m\u001b[43m(\u001b[49m\u001b[43mtimer\u001b[49m\u001b[43m)\u001b[49m\n",
      "File \u001b[1;32mc:\\Users\\kslad\\Documents\\projects\\optimization\\.venv\\Lib\\site-packages\\pyomo\\contrib\\appsi\\solvers\\highs.py:690\u001b[0m, in \u001b[0;36mHighs._postsolve\u001b[1;34m(self, timer)\u001b[0m\n\u001b[0;32m    688\u001b[0m         \u001b[38;5;28mself\u001b[39m\u001b[38;5;241m.\u001b[39mload_vars()\n\u001b[0;32m    689\u001b[0m     \u001b[38;5;28;01melse\u001b[39;00m:\n\u001b[1;32m--> 690\u001b[0m         \u001b[38;5;28;01mraise\u001b[39;00m \u001b[38;5;167;01mRuntimeError\u001b[39;00m(\n\u001b[0;32m    691\u001b[0m             \u001b[38;5;124m'\u001b[39m\u001b[38;5;124mA feasible solution was not found, so no solution can be loaded. \u001b[39m\u001b[38;5;124m'\u001b[39m\n\u001b[0;32m    692\u001b[0m             \u001b[38;5;124m'\u001b[39m\u001b[38;5;124mIf using the appsi.solvers.Highs interface, you can \u001b[39m\u001b[38;5;124m'\u001b[39m\n\u001b[0;32m    693\u001b[0m             \u001b[38;5;124m'\u001b[39m\u001b[38;5;124mset opt.config.load_solution=False. If using the environ.SolverFactory \u001b[39m\u001b[38;5;124m'\u001b[39m\n\u001b[0;32m    694\u001b[0m             \u001b[38;5;124m'\u001b[39m\u001b[38;5;124minterface, you can set opt.solve(model, load_solutions = False). \u001b[39m\u001b[38;5;124m'\u001b[39m\n\u001b[0;32m    695\u001b[0m             \u001b[38;5;124m'\u001b[39m\u001b[38;5;124mThen you can check results.termination_condition and \u001b[39m\u001b[38;5;124m'\u001b[39m\n\u001b[0;32m    696\u001b[0m             \u001b[38;5;124m'\u001b[39m\u001b[38;5;124mresults.best_feasible_objective before loading a solution.\u001b[39m\u001b[38;5;124m'\u001b[39m\n\u001b[0;32m    697\u001b[0m         )\n\u001b[0;32m    698\u001b[0m timer\u001b[38;5;241m.\u001b[39mstop(\u001b[38;5;124m'\u001b[39m\u001b[38;5;124mload solution\u001b[39m\u001b[38;5;124m'\u001b[39m)\n\u001b[0;32m    700\u001b[0m info \u001b[38;5;241m=\u001b[39m highs\u001b[38;5;241m.\u001b[39mgetInfo()\n",
      "\u001b[1;31mRuntimeError\u001b[0m: A feasible solution was not found, so no solution can be loaded. If using the appsi.solvers.Highs interface, you can set opt.config.load_solution=False. If using the environ.SolverFactory interface, you can set opt.solve(model, load_solutions = False). Then you can check results.termination_condition and results.best_feasible_objective before loading a solution."
     ]
    }
   ],
   "source": [
    "solver = pyo.SolverFactory(\"appsi_highs\")\n",
    "solver.options[\"mip_heuristic_effort\"] = 0.2\n",
    "solver.options[\"time_limit\"] = 120\n",
    "solver.options[\"log_file\"] = \"highs.log\"\n",
    "solver.solve(model, tee=True)"
   ]
  }
 ],
 "metadata": {
  "kernelspec": {
   "display_name": ".venv",
   "language": "python",
   "name": "python3"
  },
  "language_info": {
   "codemirror_mode": {
    "name": "ipython",
    "version": 3
   },
   "file_extension": ".py",
   "mimetype": "text/x-python",
   "name": "python",
   "nbconvert_exporter": "python",
   "pygments_lexer": "ipython3",
   "version": "3.11.9"
  }
 },
 "nbformat": 4,
 "nbformat_minor": 2
}
